{
 "cells": [
  {
   "cell_type": "code",
   "execution_count": 1,
   "id": "135a80c1",
   "metadata": {},
   "outputs": [],
   "source": [
    "from bs4 import BeautifulSoup\n",
    "import requests\n",
    "import datetime\n",
    "import time\n",
    "import pandas as pd\n",
    "import csv"
   ]
  },
  {
   "cell_type": "code",
   "execution_count": 3,
   "id": "3b90760e",
   "metadata": {},
   "outputs": [
    {
     "name": "stdout",
     "output_type": "stream",
     "text": [
      "PUMA \n",
      "₹3,510\n",
      "4.4\n",
      "Future Rider Play On Sneakers For Men(Multicolor)\n"
     ]
    }
   ],
   "source": [
    "URL = 'https://www.flipkart.com/puma-future-rider-play-sneakers-men/p/itme713b9083b7dc?pid=SHOGUTYRUYGZFXHW&lid=LSTSHOGUTYRUYGZFXHWKS80QA&marketplace=FLIPKART&store=osp%2Fcil&srno=b_1_25&otracker=browse&fm=organic&iid=2165c9f3-82f8-4128-96f5-cea67cee8e1e.SHOGUTYRUYGZFXHW.SEARCH&ppt=browse&ppn=browse&ssid=tkt09y51i80000001706776667434'\n",
    "\n",
    "headers = {\"User-Agent\": \"Mozilla/5.0 (Macintosh; Intel Mac OS X 10_15_7) AppleWebKit/537.36 (KHTML, like Gecko) Chrome/121.0.0.0 Safari/537.36 Edg/121.0.0.0\"}\n",
    "\n",
    "\n",
    "page = requests.get(URL, headers=headers)\n",
    "\n",
    "soup = BeautifulSoup(page.content, \"html.parser\")\n",
    "\n",
    "title = soup.find(class_='G6XhRU').get_text()\n",
    "\n",
    "price = soup.find(class_='_30jeq3 _16Jk6d').get_text()\n",
    "\n",
    "rating = soup.find(class_='_3LWZlK _3uSWvT').get_text()\n",
    "\n",
    "product = soup.find(class_='B_NuCI').get_text(strip=True)\n",
    "\n",
    "\n",
    "print(title)\n",
    "print(price)\n",
    "print(rating)\n",
    "print(product)"
   ]
  },
  {
   "cell_type": "code",
   "execution_count": 5,
   "id": "cfbe261f",
   "metadata": {},
   "outputs": [
    {
     "name": "stdout",
     "output_type": "stream",
     "text": [
      "₹3,510\n"
     ]
    }
   ],
   "source": [
    "price1 = price.strip()[1:]\n",
    "print(price)"
   ]
  },
  {
   "cell_type": "code",
   "execution_count": 6,
   "id": "ce2dfc55",
   "metadata": {},
   "outputs": [
    {
     "name": "stdout",
     "output_type": "stream",
     "text": [
      "2024-02-02\n"
     ]
    }
   ],
   "source": [
    "today = datetime.date.today()\n",
    "print(today)"
   ]
  },
  {
   "cell_type": "code",
   "execution_count": null,
   "id": "e3427b64",
   "metadata": {},
   "outputs": [],
   "source": [
    "header = ['Brand', 'Product','Price', 'Rating', 'Date']\n",
    "data = [title,product,price1,rating,today]\n",
    "\n",
    "with open('flipkartscrape.csv','w',newline='',encoding='UTF-8')as f:\n",
    "    writer = csv.writer(f)\n",
    "    writer.writerow(header)\n",
    "    writer.writerow(data)"
   ]
  },
  {
   "cell_type": "code",
   "execution_count": null,
   "id": "0e7d5cbb",
   "metadata": {},
   "outputs": [],
   "source": [
    "df = pd.read_csv('/Users/geetsharma/Documents/google python/daPracPython/flipkartscrape.csv')\n",
    "df"
   ]
  },
  {
   "cell_type": "code",
   "execution_count": null,
   "id": "e8b8aa8d",
   "metadata": {},
   "outputs": [],
   "source": [
    "with open('flipkartscrape.csv','a+',newline='',encoding='UTF-8')as f:\n",
    "    writer = csv.writer(f)\n",
    "    writer.writerow(data)"
   ]
  },
  {
   "cell_type": "code",
   "execution_count": null,
   "id": "cea66378",
   "metadata": {},
   "outputs": [],
   "source": [
    "def check_price():\n",
    "    URL = 'https://www.flipkart.com/puma-future-rider-play-sneakers-men/p/itme713b9083b7dc?pid=SHOGUTYRUYGZFXHW&lid=LSTSHOGUTYRUYGZFXHWKS80QA&marketplace=FLIPKART&store=osp%2Fcil&srno=b_1_25&otracker=browse&fm=organic&iid=2165c9f3-82f8-4128-96f5-cea67cee8e1e.SHOGUTYRUYGZFXHW.SEARCH&ppt=browse&ppn=browse&ssid=tkt09y51i80000001706776667434'\n",
    "\n",
    "    headers = {\"User-Agent\": \"Mozilla/5.0 (Macintosh; Intel Mac OS X 10_15_7) AppleWebKit/537.36 (KHTML, like Gecko) Chrome/121.0.0.0 Safari/537.36 Edg/121.0.0.0\"}\n",
    "\n",
    "\n",
    "    page = requests.get(URL, headers=headers)\n",
    "\n",
    "    soup = BeautifulSoup(page.content, \"html.parser\")\n",
    "\n",
    "    title = soup.find(class_='G6XhRU').get_text()\n",
    "\n",
    "    price = soup.find(class_='_30jeq3 _16Jk6d').get_text()\n",
    "\n",
    "    rating = soup.find(class_='_3LWZlK _3uSWvT').get_text()\n",
    "    \n",
    "    product = soup.find(class_='B_NuCI').get_text(strip=True)\n",
    "    \n",
    "    price1 = price.strip()[1:]\n",
    "    \n",
    "    today = datetime.date.today()\n",
    "    \n",
    "    header = ['Brand', 'Product','Price', 'Rating', 'Date']\n",
    "    data = [title,product,price1,rating,today]\n",
    "    \n",
    "    with open('flipkartscrape.csv','a+',newline='',encoding='UTF-8')as f:\n",
    "        writer = csv.writer(f)\n",
    "        writer.writerow(data)\n",
    "    \n",
    "    "
   ]
  },
  {
   "cell_type": "code",
   "execution_count": null,
   "id": "7c2eed9b",
   "metadata": {},
   "outputs": [],
   "source": [
    "while True:\n",
    "    check_price()\n",
    "    time.sleep(5)"
   ]
  },
  {
   "cell_type": "code",
   "execution_count": null,
   "id": "2af3a828",
   "metadata": {},
   "outputs": [],
   "source": [
    "df = pd.read_csv('/Users/geetsharma/Documents/google python/daPracPython/flipkartscrape.csv')\n",
    "df"
   ]
  },
  {
   "cell_type": "code",
   "execution_count": null,
   "id": "a8ea9ab5",
   "metadata": {},
   "outputs": [],
   "source": []
  },
  {
   "cell_type": "code",
   "execution_count": null,
   "id": "8e945d17",
   "metadata": {},
   "outputs": [],
   "source": []
  },
  {
   "cell_type": "code",
   "execution_count": null,
   "id": "1cd17869",
   "metadata": {},
   "outputs": [],
   "source": []
  },
  {
   "cell_type": "code",
   "execution_count": null,
   "id": "44b3e7e2",
   "metadata": {},
   "outputs": [],
   "source": []
  },
  {
   "cell_type": "code",
   "execution_count": null,
   "id": "c6c703a1",
   "metadata": {},
   "outputs": [],
   "source": []
  },
  {
   "cell_type": "code",
   "execution_count": null,
   "id": "c2456b73",
   "metadata": {},
   "outputs": [],
   "source": []
  },
  {
   "cell_type": "code",
   "execution_count": null,
   "id": "54858263",
   "metadata": {},
   "outputs": [],
   "source": []
  },
  {
   "cell_type": "code",
   "execution_count": null,
   "id": "a76f36a6",
   "metadata": {},
   "outputs": [],
   "source": []
  },
  {
   "cell_type": "code",
   "execution_count": null,
   "id": "b003ce0c",
   "metadata": {},
   "outputs": [],
   "source": []
  },
  {
   "cell_type": "code",
   "execution_count": null,
   "id": "6b56a519",
   "metadata": {},
   "outputs": [],
   "source": []
  },
  {
   "cell_type": "code",
   "execution_count": null,
   "id": "1f38ada8",
   "metadata": {},
   "outputs": [],
   "source": []
  },
  {
   "cell_type": "code",
   "execution_count": null,
   "id": "17028445",
   "metadata": {},
   "outputs": [],
   "source": []
  },
  {
   "cell_type": "code",
   "execution_count": null,
   "id": "e21d3b33",
   "metadata": {},
   "outputs": [],
   "source": []
  },
  {
   "cell_type": "code",
   "execution_count": null,
   "id": "bfa0b62e",
   "metadata": {},
   "outputs": [],
   "source": []
  },
  {
   "cell_type": "code",
   "execution_count": null,
   "id": "9fea9b13",
   "metadata": {},
   "outputs": [],
   "source": []
  }
 ],
 "metadata": {
  "kernelspec": {
   "display_name": "Python 3.11",
   "language": "python",
   "name": "python3.11"
  },
  "language_info": {
   "codemirror_mode": {
    "name": "ipython",
    "version": 3
   },
   "file_extension": ".py",
   "mimetype": "text/x-python",
   "name": "python",
   "nbconvert_exporter": "python",
   "pygments_lexer": "ipython3",
   "version": "3.11.3"
  }
 },
 "nbformat": 4,
 "nbformat_minor": 5
}
